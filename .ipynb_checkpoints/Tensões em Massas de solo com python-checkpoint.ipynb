{
 "cells": [
  {
   "cell_type": "markdown",
   "id": "third-preliminary",
   "metadata": {},
   "source": [
    "# Mecânica dos Solos\n",
    "\n",
    "## Tensões em massas de solo com python"
   ]
  },
  {
   "cell_type": "markdown",
   "id": "frank-housing",
   "metadata": {},
   "source": [
    "[1.   Formulação](#section_1)  \n",
    "[2.   Apresentando o Problema](#section_2)  \n",
    "[3.   Resolução do Problema em Python](#section_3)  \n",
    "[4.   Resultados](#section_4)  \n",
    "[5.   Validação](#section_5)  \n",
    "[6.   Referências](#section_6)  \n",
    "\n",
    "---\n",
    "_Professor Alex Almeida._ [(Lattes)](http://lattes.cnpq.br/7734327250758963)  \n",
    "_Porto Alegre, RS, Brazil_ "
   ]
  },
  {
   "cell_type": "code",
   "execution_count": 1,
   "id": "demanding-donna",
   "metadata": {},
   "outputs": [],
   "source": [
    "#Importando os módulos a serem utilizados\n",
    "import geoten\n",
    "import matplotlib.pyplot as plt\n",
    "import pandas as pd"
   ]
  },
  {
   "cell_type": "markdown",
   "id": "structural-samuel",
   "metadata": {},
   "source": [
    "## 1. Formulação <a name=\"section_1\"></a> "
   ]
  },
  {
   "cell_type": "markdown",
   "id": "first-investigation",
   "metadata": {},
   "source": [
    "A tensão total ($\\sigma$) em determinado ponto no interior de uma massa de solo é composta por duas parcelas: a poropressão ($u$), também conhecida como pressão neutra, que representa a tensão exercida pela água e a tensão efetiva ($\\sigma'$), que representa a tensão transmitida pelas partículas sólidas. Essas componentes resultam na expressão clássica da mecânica dos solos: &nbsp;\n",
    "\n",
    "<img src=\"img/001.png\" width=\"720px\" />\n",
    "\n",
    "\n",
    "Onde $z$ representa a profundidade da camada de solo (ou coluna de água) e $\\gamma$ o peso específico do material.\n",
    "\n",
    "Dessa forma, as tensões totais atuantes sobre uma área unitária no interior de uma massa de solo pode ser expressa pela seguinte equação:&nbsp;\n",
    "\n",
    "$$\\sum ( z\\gamma) + z_w \\gamma_w$$"
   ]
  },
  {
   "cell_type": "markdown",
   "id": "injured-identifier",
   "metadata": {},
   "source": [
    "## 2. Apresentando o Problema <a name=\"section_2\"></a> \n",
    "\n",
    "Para o perfil geotécnico:\n",
    "\n",
    "<img src=\"img/002.png\" width=\"320px\" />\n",
    "\n",
    "Determinar a tensão total, a poropressão e a tensão efetiva atuantes no ponto A."
   ]
  },
  {
   "cell_type": "markdown",
   "id": "normal-parcel",
   "metadata": {},
   "source": [
    "## 3. Resolução do Problema em Python <a name=\"section_3\"></a> "
   ]
  },
  {
   "cell_type": "code",
   "execution_count": 2,
   "id": "anticipated-prophet",
   "metadata": {},
   "outputs": [],
   "source": [
    "##############################################################################\n",
    "# Instruções para os dados de entrada\n",
    "##############################################################################\n",
    "\n",
    "# p_na : posicao do nivel d'agua em relacao ao nivel do terreno\n",
    "# Um valor positivo significa Nivel d'agua acima do nivel do terreno\n",
    "# Um valor negativo significa Nivel d'agua abaixo do nivel do terreno\n",
    "# Zero significa que o nivel d'agua coincide com o nivel do terreno\n",
    "# Quando nao ha nivel d'agua preencher com \"nao_aplica\" com haspas\n",
    "\n",
    "# n_camadas : numero de camadas de solos diferentes (suporta ate 7)\n",
    "# cx : par de valores para cada camada em ordem de profundidade \n",
    "# onde, [0,0] = [Espessura da camada(m), Peso especifico (kN/m3) ]\n",
    "# Uma camada inexistente deve ser preenchida com [0,0]\n",
    "# cn : lista compilando as informacoes das camadas\n",
    "\n",
    "# n_pontos : numero de pontos que se deseja conhecer as tensoes (ate 7 pontos)\n",
    "# px : posicao do ponto em relacao ao nivel do terreno\n",
    "# Um valor positivo significa que o ponto esta acima do nivel do terreno\n",
    "# Um valor negativo significa que o ponto esta abaixo do nivel do terreno\n",
    "# Zero significa que o ponto coincide com o nivel do terreno\n",
    "# Quando nao ha interesse em um dos pontos preencher com \"nao_aplica\" com haspas\n",
    "# Um ponto deverá ser colocado no inicio do nível d'agua, se houver\n",
    "# Um ponto deverá ser colocado no inicio do nível do terreno\n",
    "# pn: lista compilando as informacoes dos pontos\n",
    "\n",
    "p_na = \"nao_aplica\"\n",
    "\n",
    "n_camadas = 0\n",
    "c1 = [0,0]\n",
    "c2 = [0,0]     \n",
    "c3 = [0,0]         \n",
    "c4 = [0,0] \n",
    "c5 = [0,0] \n",
    "c6 = [0,0] \n",
    "c7 = [0,0] \n",
    "cn = [c1,c2,c3,c4,c5,c6,c7]\n",
    "\n",
    "n_pontos = 0\n",
    "p1  = \"nao_aplica\"\n",
    "p2  = \"nao_aplica\"\n",
    "p3  = \"nao_aplica\"\n",
    "p4  = \"nao_aplica\"\n",
    "p5  = \"nao_aplica\"\n",
    "p6  = \"nao_aplica\"\n",
    "p7  = \"nao_aplica\"\n",
    "pn  = [p1,p2,p3,p4,p5,p6,p7]\n",
    "\n",
    "t_total, poropressao, t_efetiva, e_total, e_solo, ci, cf = geoten.tensoes (n_camadas, cn, p_na, n_pontos, pn)"
   ]
  },
  {
   "cell_type": "markdown",
   "id": "nuclear-grant",
   "metadata": {},
   "source": [
    "## 4. Resultados <a name=\"section_4\"></a> "
   ]
  },
  {
   "cell_type": "code",
   "execution_count": 1,
   "id": "italian-stream",
   "metadata": {
    "scrolled": false
   },
   "outputs": [
    {
     "ename": "NameError",
     "evalue": "name 'plt' is not defined",
     "output_type": "error",
     "traceback": [
      "\u001b[1;31m---------------------------------------------------------------------------\u001b[0m",
      "\u001b[1;31mNameError\u001b[0m                                 Traceback (most recent call last)",
      "\u001b[1;32m<ipython-input-1-97d06cefb628>\u001b[0m in \u001b[0;36m<module>\u001b[1;34m\u001b[0m\n\u001b[0;32m      3\u001b[0m \u001b[1;31m##############################################################################\u001b[0m\u001b[1;33m\u001b[0m\u001b[1;33m\u001b[0m\u001b[1;33m\u001b[0m\u001b[0m\n\u001b[0;32m      4\u001b[0m \u001b[1;33m\u001b[0m\u001b[0m\n\u001b[1;32m----> 5\u001b[1;33m \u001b[0mfig\u001b[0m\u001b[1;33m,\u001b[0m \u001b[0maxs\u001b[0m \u001b[1;33m=\u001b[0m \u001b[0mplt\u001b[0m\u001b[1;33m.\u001b[0m\u001b[0msubplots\u001b[0m\u001b[1;33m(\u001b[0m\u001b[1;36m1\u001b[0m\u001b[1;33m,\u001b[0m \u001b[1;36m2\u001b[0m\u001b[1;33m,\u001b[0m \u001b[0mfigsize\u001b[0m\u001b[1;33m=\u001b[0m\u001b[1;33m(\u001b[0m\u001b[1;36m5\u001b[0m\u001b[1;33m,\u001b[0m \u001b[1;36m5\u001b[0m\u001b[1;33m)\u001b[0m\u001b[1;33m,\u001b[0m\u001b[0mdpi\u001b[0m\u001b[1;33m=\u001b[0m\u001b[1;36m100\u001b[0m\u001b[1;33m)\u001b[0m\u001b[1;33m\u001b[0m\u001b[1;33m\u001b[0m\u001b[0m\n\u001b[0m\u001b[0;32m      6\u001b[0m \u001b[1;33m\u001b[0m\u001b[0m\n\u001b[0;32m      7\u001b[0m \u001b[1;31m#Perfil geotécnico\u001b[0m\u001b[1;33m\u001b[0m\u001b[1;33m\u001b[0m\u001b[1;33m\u001b[0m\u001b[0m\n",
      "\u001b[1;31mNameError\u001b[0m: name 'plt' is not defined"
     ]
    }
   ],
   "source": [
    "##############################################################################\n",
    "# Graficos\n",
    "##############################################################################\n",
    "\n",
    "fig, axs = plt.subplots(1, 2, figsize=(5, 5),dpi=100)   \n",
    "\n",
    "#Perfil geotécnico\n",
    "ax1 = axs[0]\n",
    "ax1.set_xlim(0,10) ; ax1.set_ylim(-1*e_solo,(e_total-e_solo))     \n",
    "if type(p_na) != str:\n",
    "    ax1.scatter(10,p_na,c='blue');ax1.annotate('NA',[8,p_na],c='blue') # nivel d'agua\n",
    "ax1.plot([0,10],[0,0],c='black',linewidth=4);ax1.scatter(10,0,c='black');ax1.annotate('NT',[10,0],c='black') # nivel do terreno\n",
    "for i in range (n_camadas):\n",
    "    ax1.plot([0,10],[cf[i],cf[i]],c='maroon',linewidth=4)\n",
    "    ax1.annotate('γ={0:3.1f}kN/m³'.format(cn[i][1]),fontsize=11, xy=(0, (cf[i]+((cn[i][0])/2)))) \n",
    "ax1.set_ylabel('Profundidade (m)',fontsize=14) \n",
    "ax1.set_xticklabels([])\n",
    "ax1.grid(True)\n",
    "\n",
    "#Tensões\n",
    "ax2 = axs[1]\n",
    "ax2.set_xlim(0,max(t_total)); ax2.set_ylim(pn[n_pontos-1],pn[0])     \n",
    "ax2.plot(t_total,pn[0:n_pontos],c='black',label='Tensão total')\n",
    "ax2.plot(poropressao,pn[0:n_pontos],c='blue',label='Poropressão')\n",
    "ax2.plot(t_efetiva,pn[0:n_pontos],c='red',label='Tensão efetiva')\n",
    "ax2.legend(loc='upper right',fontsize=8, ncol=1, shadow=True, fancybox=True)\n",
    "ax2.set_xlabel('tensão (kPa)',fontsize=14)\n",
    "ax2.set_yticklabels([])\n",
    "ax2.grid(True)\n",
    "\n",
    "##############################################################################\n",
    "# Tabelas\n",
    "##############################################################################\n",
    "\n",
    "dados = {'Profundidade (m)':pn[0:n_pontos],'Tensão total(kPa)':t_total,'Poropressão(kPa)':poropressao,'Tensão efetiva(kPa)':t_efetiva}\n",
    "tabela_solos = pd.DataFrame(dados)\n",
    "print (tabela_solos.to_string(index=False))"
   ]
  },
  {
   "cell_type": "markdown",
   "id": "fixed-trainer",
   "metadata": {},
   "source": [
    "## 5.  Validação <a name=\"section_5\"></a> \n",
    "\n",
    "<img src=\"img/003.png\" width=\"960px\" />"
   ]
  },
  {
   "cell_type": "code",
   "execution_count": 4,
   "id": "previous-register",
   "metadata": {},
   "outputs": [],
   "source": [
    "##############################################################################\n",
    "# Dados de entrada\n",
    "##############################################################################\n",
    "\n",
    "p_na = \"nao_aplica\"\n",
    "\n",
    "n_camadas = 0\n",
    "c1 = [0,0] \n",
    "c2 = [0,0]      \n",
    "c3 = [0,0]          \n",
    "c4 = [0,0] \n",
    "c5 = [0,0] \n",
    "c6 = [0,0] \n",
    "c7 = [0,0] \n",
    "cn = [c1,c2,c3,c4,c5,c6,c7]\n",
    "\n",
    "n_pontos = 0\n",
    "p1  = \"nao_aplica\"\n",
    "p2  = \"nao_aplica\"\n",
    "p3  = \"nao_aplica\"\n",
    "p4  = \"nao_aplica\"\n",
    "p5  = \"nao_aplica\"\n",
    "p6  = \"nao_aplica\"\n",
    "p7  = \"nao_aplica\"\n",
    "pn  = [p1,p2,p3,p4,p5,p6,p7]\n",
    "\n",
    "t_total, poropressao, t_efetiva, e_total, e_solo, ci, cf = geoten.tensoes (n_camadas, cn, p_na, n_pontos, pn)"
   ]
  },
  {
   "cell_type": "code",
   "execution_count": 2,
   "id": "elect-davis",
   "metadata": {},
   "outputs": [
    {
     "ename": "NameError",
     "evalue": "name 'plt' is not defined",
     "output_type": "error",
     "traceback": [
      "\u001b[1;31m---------------------------------------------------------------------------\u001b[0m",
      "\u001b[1;31mNameError\u001b[0m                                 Traceback (most recent call last)",
      "\u001b[1;32m<ipython-input-2-97d06cefb628>\u001b[0m in \u001b[0;36m<module>\u001b[1;34m\u001b[0m\n\u001b[0;32m      3\u001b[0m \u001b[1;31m##############################################################################\u001b[0m\u001b[1;33m\u001b[0m\u001b[1;33m\u001b[0m\u001b[1;33m\u001b[0m\u001b[0m\n\u001b[0;32m      4\u001b[0m \u001b[1;33m\u001b[0m\u001b[0m\n\u001b[1;32m----> 5\u001b[1;33m \u001b[0mfig\u001b[0m\u001b[1;33m,\u001b[0m \u001b[0maxs\u001b[0m \u001b[1;33m=\u001b[0m \u001b[0mplt\u001b[0m\u001b[1;33m.\u001b[0m\u001b[0msubplots\u001b[0m\u001b[1;33m(\u001b[0m\u001b[1;36m1\u001b[0m\u001b[1;33m,\u001b[0m \u001b[1;36m2\u001b[0m\u001b[1;33m,\u001b[0m \u001b[0mfigsize\u001b[0m\u001b[1;33m=\u001b[0m\u001b[1;33m(\u001b[0m\u001b[1;36m5\u001b[0m\u001b[1;33m,\u001b[0m \u001b[1;36m5\u001b[0m\u001b[1;33m)\u001b[0m\u001b[1;33m,\u001b[0m\u001b[0mdpi\u001b[0m\u001b[1;33m=\u001b[0m\u001b[1;36m100\u001b[0m\u001b[1;33m)\u001b[0m\u001b[1;33m\u001b[0m\u001b[1;33m\u001b[0m\u001b[0m\n\u001b[0m\u001b[0;32m      6\u001b[0m \u001b[1;33m\u001b[0m\u001b[0m\n\u001b[0;32m      7\u001b[0m \u001b[1;31m#Perfil geotécnico\u001b[0m\u001b[1;33m\u001b[0m\u001b[1;33m\u001b[0m\u001b[1;33m\u001b[0m\u001b[0m\n",
      "\u001b[1;31mNameError\u001b[0m: name 'plt' is not defined"
     ]
    }
   ],
   "source": [
    "##############################################################################\n",
    "# Graficos\n",
    "##############################################################################\n",
    "\n",
    "fig, axs = plt.subplots(1, 2, figsize=(5, 5),dpi=100)   \n",
    "\n",
    "#Perfil geotécnico\n",
    "ax1 = axs[0]\n",
    "ax1.set_xlim(0,10) ; ax1.set_ylim(-1*e_solo,(e_total-e_solo))     \n",
    "if type(p_na) != str:\n",
    "    ax1.scatter(10,p_na,c='blue');ax1.annotate('NA',[8,p_na],c='blue') # nivel d'agua\n",
    "ax1.plot([0,10],[0,0],c='black',linewidth=4);ax1.scatter(10,0,c='black');ax1.annotate('NT',[10,0],c='black') # nivel do terreno\n",
    "for i in range (n_camadas):\n",
    "    ax1.plot([0,10],[cf[i],cf[i]],c='maroon',linewidth=4)\n",
    "    ax1.annotate('γ={0:3.1f}kN/m³'.format(cn[i][1]),fontsize=11, xy=(0, (cf[i]+((cn[i][0])/2)))) \n",
    "ax1.set_ylabel('Profundidade (m)',fontsize=14) \n",
    "ax1.set_xticklabels([])\n",
    "ax1.grid(True)\n",
    "\n",
    "#Tensões\n",
    "ax2 = axs[1]\n",
    "ax2.set_xlim(0,max(t_total)); ax2.set_ylim(pn[n_pontos-1],pn[0])     \n",
    "ax2.plot(t_total,pn[0:n_pontos],c='black',label='Tensão total')\n",
    "ax2.plot(poropressao,pn[0:n_pontos],c='blue',label='Poropressão')\n",
    "ax2.plot(t_efetiva,pn[0:n_pontos],c='red',label='Tensão efetiva')\n",
    "ax2.legend(loc='upper right',fontsize=8, ncol=1, shadow=True, fancybox=True)\n",
    "ax2.set_xlabel('tensão (kPa)',fontsize=14)\n",
    "ax2.set_yticklabels([])\n",
    "ax2.grid(True)\n",
    "\n",
    "##############################################################################\n",
    "# Tabelas\n",
    "##############################################################################\n",
    "\n",
    "dados = {'Profundidade (m)':pn[0:n_pontos],'Tensão total(kPa)':t_total,'Poropressão(kPa)':poropressao,'Tensão efetiva(kPa)':t_efetiva}\n",
    "tabela_solos = pd.DataFrame(dados)\n",
    "print (tabela_solos.to_string(index=False))"
   ]
  },
  {
   "cell_type": "markdown",
   "id": "later-haiti",
   "metadata": {},
   "source": [
    "## 6.  Referências <a name=\"section_6\"></a> "
   ]
  },
  {
   "cell_type": "markdown",
   "id": "czech-atlanta",
   "metadata": {},
   "source": [
    "RIBEIRO, R. C. H. Exercícios de mecânica dos solos. São Paulo: Editora Oficina de textos, 2021. &nbsp; \n",
    "\n",
    "PINTO, C. S. Curso básico de mecânica dos solos. São Paulo: Editora Oficina de textos, 2006. &nbsp; "
   ]
  }
 ],
 "metadata": {
  "kernelspec": {
   "display_name": "Python 3",
   "language": "python",
   "name": "python3"
  },
  "language_info": {
   "codemirror_mode": {
    "name": "ipython",
    "version": 3
   },
   "file_extension": ".py",
   "mimetype": "text/x-python",
   "name": "python",
   "nbconvert_exporter": "python",
   "pygments_lexer": "ipython3",
   "version": "3.7.1"
  }
 },
 "nbformat": 4,
 "nbformat_minor": 5
}
